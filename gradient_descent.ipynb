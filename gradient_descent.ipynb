{
 "cells": [
  {
   "cell_type": "code",
   "execution_count": 1,
   "metadata": {},
   "outputs": [],
   "source": [
    "# gradient descent implementation\n",
    "import numpy as np\n",
    "import matplotlib.pyplot as plt"
   ]
  },
  {
   "cell_type": "code",
   "execution_count": 58,
   "metadata": {},
   "outputs": [],
   "source": [
    "# make fake data\n",
    "input_data = 2 * np.random.rand(100,1)\n",
    "output_data = 4 + 3*(input_data) + np.random.rand(100,1)"
   ]
  },
  {
   "cell_type": "code",
   "execution_count": 60,
   "metadata": {},
   "outputs": [
    {
     "data": {
      "text/plain": [
       "[<matplotlib.lines.Line2D at 0x7fee86bb5518>]"
      ]
     },
     "execution_count": 60,
     "metadata": {},
     "output_type": "execute_result"
    },
    {
     "data": {
      "image/png": "[encoded data removed]",
      "text/plain": [
       "<Figure size 432x288 with 1 Axes>"
      ]
     },
     "metadata": {
      "needs_background": "light"
     },
     "output_type": "display_data"
    }
   ],
   "source": [
    "#plt.scatter(input_data, output_data)\n",
    "plt.plot(input_data, output_data, 'o')"
   ]
  },
  {
   "cell_type": "code",
   "execution_count": 126,
   "metadata": {},
   "outputs": [],
   "source": [
    "# batch gradient descent\n",
    "# TODO: check why this function takes more iterations to converge to the likewise one at bottom\n",
    "def gradient_desc(x, y, alpha, max_iters=10000):\n",
    "    m = x.shape[0] # gives number of training samples\n",
    "    iter = 0\n",
    "    error_threshold = 0.001\n",
    "    \n",
    "    # initialize theta (choosing randomly first b/c algorithm will update theta)\n",
    "    t0 = np.random.rand(x.shape[1])\n",
    "    t1 = np.random.rand(x.shape[1])\n",
    "    \n",
    "    # summation of the loss - cost function J(theta)\n",
    "    cost = (1/2*m) * sum([(t0 + t1*x[i] - y[i])**2 for i in range(m)])\n",
    "\n",
    "    # performing convergence\n",
    "    for iter in range(max_iters):\n",
    "    \n",
    "        # gradients for J(0) and J(1)\n",
    "        grad0 = (1.0/m) * sum([(t0 + t1*x[i] - y[i]) for i in range(m)])\n",
    "        grad1 = (1.0/m) * sum([(t0 + t1*x[i] - y[i])*x[i] for i in range(m)])\n",
    "        \n",
    "        # update thetas\n",
    "        temp_t0 = t0 - alpha * grad0\n",
    "        temp_t1 = t1 - alpha * grad1\n",
    "        t0 = temp_t0\n",
    "        t1 = temp_t1\n",
    "        \n",
    "        # squared error\n",
    "        error = (1/2*m) * sum([(t0 + t1*x[i] -y[i])**2 for i in range(m)]) \n",
    "                              \n",
    "        if abs(cost-error) <= error_threshold:\n",
    "            print(\"Converged, iterations: \", iter)\n",
    "            break\n",
    "        \n",
    "        cost = error # update cost\n",
    "        \n",
    "        #print (\"theta1 {}, theta0 {}, cost {} iteration {}\".format(t1,t0,cost, iter))\n",
    "        \n",
    "    return t0, t1"
   ]
  },
  {
   "cell_type": "code",
   "execution_count": 131,
   "metadata": {},
   "outputs": [
    {
     "name": "stdout",
     "output_type": "stream",
     "text": [
      "input_data.shape = (100, 1) output_data.shape (100, 1)\n",
      "Converged, iterations:  841\n",
      "theta0 = [4.41144385] theta1 = [3.08399346]\n"
     ]
    }
   ],
   "source": [
    "print(\"input_data.shape = %s output_data.shape %s\" % (input_data.shape,output_data.shape))\n",
    "\n",
    "x = input_data\n",
    "y = output_data\n",
    "alpha = 0.03 # learning rate\n",
    "\n",
    "# call gradient descent\n",
    "theta0, theta1 = gradient_desc(x, y, alpha, max_iters=1000)\n",
    "print (\"theta0 = %s theta1 = %s\" % (theta0, theta1))"
   ]
  },
  {
   "cell_type": "code",
   "execution_count": 105,
   "metadata": {},
   "outputs": [
    {
     "data": {
      "text/plain": [
       "[<matplotlib.lines.Line2D at 0x7fee8631c438>]"
      ]
     },
     "execution_count": 105,
     "metadata": {},
     "output_type": "execute_result"
    },
    {
     "data": {
      "image/png": "[encoded data removed]",
      "text/plain": [
       "<Figure size 432x288 with 1 Axes>"
      ]
     },
     "metadata": {
      "needs_background": "light"
     },
     "output_type": "display_data"
    }
   ],
   "source": [
    "for i in range(x.shape[0]):\n",
    "        y_predict = theta0 + theta1*x\n",
    "plt.plot(x, y, 'o')\n",
    "plt.plot(x, y_predict, 'k-')"
   ]
  },
  {
   "cell_type": "code",
   "execution_count": 128,
   "metadata": {},
   "outputs": [],
   "source": [
    "def gradient_descent(alpha, x, y, ep=0.0001, max_iter=10000):\n",
    "    #converged = False\n",
    "    iter = 0\n",
    "    m = x.shape[0] # number of samples\n",
    "\n",
    "    # initial theta\n",
    "    t0 = np.random.random(x.shape[1])\n",
    "    t1 = np.random.random(x.shape[1])\n",
    "\n",
    "    # total error, J(theta)\n",
    "    J = sum([(t0 + t1*x[i] - y[i])**2 for i in range(m)])\n",
    "\n",
    "    #while not converged:\n",
    "    for iter in range(max_iter):\n",
    "        # for each training sample, compute the gradient (d/d_theta j(theta))\n",
    "        grad0 = 1.0/m * sum([(t0 + t1*x[i] - y[i]) for i in range(m)]) \n",
    "        grad1 = 1.0/m * sum([(t0 + t1*x[i] - y[i])*x[i] for i in range(m)])\n",
    "\n",
    "        # update the theta_temp\n",
    "        temp0 = t0 - alpha * grad0\n",
    "        temp1 = t1 - alpha * grad1\n",
    "    \n",
    "        # update theta\n",
    "        t0 = temp0\n",
    "        t1 = temp1\n",
    "\n",
    "        # mean squared error\n",
    "        e = sum( [ (t0 + t1*x[i] - y[i])**2 for i in range(m)] ) \n",
    "\n",
    "        if abs(J-e) <= ep:\n",
    "            print('Converged, iterations: ', iter, '!!!')\n",
    "            #converged = True\n",
    "            break\n",
    "    \n",
    "        J = e   # update error \n",
    "        #iter += 1  # update iter\n",
    "\n",
    "    return t0,t1"
   ]
  },
  {
   "cell_type": "code",
   "execution_count": 129,
   "metadata": {},
   "outputs": [
    {
     "name": "stdout",
     "output_type": "stream",
     "text": [
      "input_data.shape = (100, 1) output_data.shape (100, 1)\n",
      "Converged, iterations:  555 !!!\n",
      "theta0 = [4.36513165] theta1 = [3.12290587]\n"
     ]
    }
   ],
   "source": [
    "print(\"input_data.shape = %s output_data.shape %s\" % (input_data.shape,output_data.shape))\n",
    "\n",
    "x = input_data\n",
    "y = output_data\n",
    "alpha = 0.03 # learning rate\n",
    "\n",
    "# call gradient descent\n",
    "theta0, theta1 = gradient_descent(alpha, x, y, ep=0.001, max_iter=1000)\n",
    "print (\"theta0 = %s theta1 = %s\" % (theta0, theta1))"
   ]
  }
 ],
 "metadata": {
  "kernelspec": {
   "display_name": "Python 3.7 (tensorflow)",
   "language": "python",
   "name": "tensorflow"
  },
  "language_info": {
   "codemirror_mode": {
    "name": "ipython",
    "version": 3
   },
   "file_extension": ".py",
   "mimetype": "text/x-python",
   "name": "python",
   "nbconvert_exporter": "python",
   "pygments_lexer": "ipython3",
   "version": "3.7.1"
  }
 },
 "nbformat": 4,
 "nbformat_minor": 4
}

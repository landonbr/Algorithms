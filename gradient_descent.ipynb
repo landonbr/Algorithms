{
 "cells": [
  {
   "cell_type": "code",
   "execution_count": 1,
   "metadata": {},
   "outputs": [],
   "source": [
    "# gradient descent implementation\n",
    "import numpy as np\n",
    "import matplotlib.pyplot as plt"
   ]
  },
  {
   "cell_type": "code",
   "execution_count": 2,
   "metadata": {},
   "outputs": [],
   "source": [
    "# make fake data\n",
    "input_data = 2 * np.random.rand(100,1)\n",
    "output_data = 4 + 3*(input_data) + np.random.rand(100,1)"
   ]
  },
  {
   "cell_type": "code",
   "execution_count": 76,
   "metadata": {},
   "outputs": [
    {
     "data": {
      "text/plain": [
       "[<matplotlib.lines.Line2D at 0x7fc3bafb2978>]"
      ]
     },
     "execution_count": 76,
     "metadata": {},
     "output_type": "execute_result"
    },
    {
     "data": {
      "image/png": "[encoded data removed]",
      "text/plain": [
       "<Figure size 432x288 with 1 Axes>"
      ]
     },
     "metadata": {
      "needs_background": "light"
     },
     "output_type": "display_data"
    }
   ],
   "source": [
    "plt.plot(input_data, output_data, 'o')"
   ]
  },
  {
   "cell_type": "code",
   "execution_count": 70,
   "metadata": {},
   "outputs": [],
   "source": [
    "# batch gradient descent\n",
    "def gradient_desc(x, y, alpha, max_iters=10000):\n",
    "    m = x.shape[0] # gives number of training samples\n",
    "    iter = 0\n",
    "    error_threshold = 0.001\n",
    "    \n",
    "    # initialize theta (choosing randomly first b/c algorithm will update theta)\n",
    "    t0 = 0\n",
    "    t1 = 0\n",
    "    \n",
    "    # summation of the loss - cost function J(theta)\n",
    "    cost = sum([(t0 + t1*x[i] - y[i])**2 for i in range(m)])\n",
    "\n",
    "    # performing convergence\n",
    "    for iter in range(max_iters):\n",
    "    \n",
    "        # gradients for J(0) and J(1)\n",
    "        grad0 = (1.0/m) * sum([(t0 + t1*x[i] - y[i]) for i in range(m)])\n",
    "        grad1 = (1.0/m) * sum([(t0 + t1*x[i] - y[i])*x[i] for i in range(m)])\n",
    "        \n",
    "        # update thetas\n",
    "        temp_t0 = t0 - alpha * grad0\n",
    "        temp_t1 = t1 - alpha * grad1\n",
    "        t0 = temp_t0\n",
    "        t1 = temp_t1\n",
    "        \n",
    "        # squared error\n",
    "        error = sum([(t0 + t1*x[i] -y[i])**2 for i in range(m)]) \n",
    "                              \n",
    "        if abs(cost-error) <= error_threshold:\n",
    "            print(\"Converged, iterations: \", iter)\n",
    "            break\n",
    "        \n",
    "        cost = error # update cost\n",
    "        \n",
    "    return t0, t1, cost"
   ]
  },
  {
   "cell_type": "code",
   "execution_count": 72,
   "metadata": {},
   "outputs": [
    {
     "name": "stdout",
     "output_type": "stream",
     "text": [
      "input_data.shape = (100, 1) output_data.shape (100, 1)\n",
      "Converged, iterations:  615\n",
      "theta0 = [4.45858068] theta1 = [2.9953081] cost = [8.42906804]\n"
     ]
    }
   ],
   "source": [
    "print(\"input_data.shape = %s output_data.shape %s\" % (input_data.shape,output_data.shape))\n",
    "\n",
    "x = input_data\n",
    "y = output_data\n",
    "alpha = 0.03 # learning rate\n",
    "\n",
    "# call gradient descent\n",
    "theta0, theta1, cost = gradient_desc(x, y, alpha, max_iters=1000)\n",
    "print (\"theta0 = %s theta1 = %s cost = %s\" % (theta0, theta1, cost))"
   ]
  },
  {
   "cell_type": "code",
   "execution_count": 73,
   "metadata": {
    "scrolled": true
   },
   "outputs": [
    {
     "data": {
      "text/plain": [
       "[<matplotlib.lines.Line2D at 0x7fc3ba88e6a0>]"
      ]
     },
     "execution_count": 73,
     "metadata": {},
     "output_type": "execute_result"
    },
    {
     "data": {
      "image/png": "[encoded data removed]",
      "text/plain": [
       "<Figure size 432x288 with 1 Axes>"
      ]
     },
     "metadata": {
      "needs_background": "light"
     },
     "output_type": "display_data"
    }
   ],
   "source": [
    "for i in range(x.shape[0]):\n",
    "    y_predict = theta0 + theta1*x\n",
    "plt.plot(x, y, 'o')\n",
    "plt.plot(x, y_predict, 'r-')"
   ]
  },
  {
   "cell_type": "code",
   "execution_count": 226,
   "metadata": {},
   "outputs": [
    {
     "data": {
      "text/plain": [
       "[<matplotlib.lines.Line2D at 0x7fc3bba4db00>]"
      ]
     },
     "execution_count": 226,
     "metadata": {},
     "output_type": "execute_result"
    },
    {
     "data": {
      "image/png": "[encoded data removed]",
      "text/plain": [
       "<Figure size 432x288 with 1 Axes>"
      ]
     },
     "metadata": {
      "needs_background": "light"
     },
     "output_type": "display_data"
    }
   ],
   "source": [
    "# example 2\n",
    "# Y = XA + E - least squeares method with matrix mult.\n",
    "x = np.array([49,69,89,99,109])\n",
    "y = np.array([124, 95, 71, 45, 18])\n",
    "plt.plot(x,y,'o')"
   ]
  },
  {
   "cell_type": "code",
   "execution_count": 227,
   "metadata": {},
   "outputs": [
    {
     "name": "stdout",
     "output_type": "stream",
     "text": [
      "[[1.0 49.0]\n",
      " [1.0 69.0]\n",
      " [1.0 89.0]\n",
      " [1.0 99.0]\n",
      " [1.0 109.0]]\n",
      "[[124.0]\n",
      " [95.0]\n",
      " [71.0]\n",
      " [45.0]\n",
      " [18.0]]\n"
     ]
    }
   ],
   "source": [
    "m = x.shape[0]\n",
    "X = np.zeros((m,2))\n",
    "Y = np.zeros((m,1))\n",
    "theta = np.zeros((2,1))\n",
    "for i in range(m):\n",
    "    X[i,0] = 1\n",
    "    X[i,1] = x[i]\n",
    "    Y[i] = y[i]\n",
    "print(X)\n",
    "print(Y)"
   ]
  },
  {
   "cell_type": "code",
   "execution_count": 228,
   "metadata": {
    "scrolled": true
   },
   "outputs": [
    {
     "data": {
      "text/plain": [
       "array([[211.3],\n",
       "       [-1.7]])"
      ]
     },
     "execution_count": 228,
     "metadata": {},
     "output_type": "execute_result"
    }
   ],
   "source": [
    "# A = (X^t*X)^-1 * (X.T*Y)\n",
    "np.set_printoptions(formatter={'float': lambda x: \"{0:0.01f}\".format(x)})\n",
    "temp0 = np.linalg.inv(np.dot(X.T,X))\n",
    "temp1 = np.dot(X.T,Y)\n",
    "theta = np.dot(temp0,temp1)\n",
    "theta\n",
    "# h = -1.7x + 211"
   ]
  },
  {
   "cell_type": "code",
   "execution_count": 235,
   "metadata": {},
   "outputs": [
    {
     "name": "stdout",
     "output_type": "stream",
     "text": [
      "The cost J = sum squared error = 205.138\n",
      "[[128.2]\n",
      " [94.3]\n",
      " [60.4]\n",
      " [43.5]\n",
      " [26.5]]\n",
      "[[124.0]\n",
      " [95.0]\n",
      " [71.0]\n",
      " [45.0]\n",
      " [18.0]]\n"
     ]
    },
    {
     "data": {
      "text/plain": [
       "[<matplotlib.lines.Line2D at 0x7fc3bc01df98>]"
      ]
     },
     "execution_count": 235,
     "metadata": {},
     "output_type": "execute_result"
    },
    {
     "data": {
      "image/png": "[encoded data removed]",
      "text/plain": [
       "<Figure size 432x288 with 1 Axes>"
      ]
     },
     "metadata": {
      "needs_background": "light"
     },
     "output_type": "display_data"
    }
   ],
   "source": [
    "predicted_y = np.dot(X,theta)\n",
    "temp0 = Y - predicted_y\n",
    "cost = np.dot(temp0.T, temp0)\n",
    "print(f'The cost J = sum squared error = {cost[0,0]:.3f}') \n",
    "print(predicted_y)\n",
    "print(Y)\n",
    "plt.plot(Y, 'ro')\n",
    "plt.plot(predicted_y, 'g-')"
   ]
  }
 ],
 "metadata": {
  "kernelspec": {
   "display_name": "Python 3.7 (tensorflow)",
   "language": "python",
   "name": "tensorflow"
  },
  "language_info": {
   "codemirror_mode": {
    "name": "ipython",
    "version": 3
   },
   "file_extension": ".py",
   "mimetype": "text/x-python",
   "name": "python",
   "nbconvert_exporter": "python",
   "pygments_lexer": "ipython3",
   "version": "3.7.1"
  }
 },
 "nbformat": 4,
 "nbformat_minor": 4
}
